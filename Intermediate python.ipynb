{
 "cells": [
  {
   "cell_type": "markdown",
   "id": "4f2d3eff",
   "metadata": {},
   "source": [
    "# <font color='steelblue'>Intermediate python"
   ]
  },
  {
   "cell_type": "markdown",
   "id": "086fd88b",
   "metadata": {},
   "source": [
    "## <font color='#339933'>Chapter 1: Matplotlib"
   ]
  },
  {
   "cell_type": "markdown",
   "id": "6703fb40",
   "metadata": {
    "nbgrader": {
     "grade": false,
     "grade_id": "ins_12",
     "locked": true,
     "schema_version": 3,
     "solution": false,
     "task": false
    }
   },
   "source": [
    "<hr style=\"border:10px solid steelblue\"> </hr>\n",
    "<div class=\"alert alert-block alert-success\">\n",
    "\n",
    "### Chapter 1 -  Exercise 2\n",
    "### Line plot (1)\n",
    "With matplotlib, you can create a bunch of different plots in Python. The most basic plot is the line plot. A general recipe is given here.\n",
    "\n",
    "In the video, you already saw how much the world population has grown over the past years. Will it continue to do so? The world bank has estimates of the world population for the years 1950 up to 2100. The years are loaded in your workspace as a list called `` year ``, and the corresponding populations as a list called `` pop ``.\n",
    "\n",
    "_This course touches on a lot of concepts you may have forgotten, so if you ever need a quick refresher, download the [Python for data science Cheat Sheet](https://datacamp-community-prod.s3.amazonaws.com/0eff0330-e87d-4c34-88d5-73e80cb955f2) and keep it handy!_\n",
    "</div><div class=\"alert alert-block alert-warning\">\n",
    "\n",
    "\n",
    "#### Instructions\n",
    "\n",
    "\n",
    "*   [`` print() ``](https://docs.python.org/3/library/functions.html#print) the last item from both the `` year `` and the `` pop `` list to see what the predicted population for the year 2100 is. Use two `` print() `` functions.\n",
    "*   Before you can start, you should import `` matplotlib.pyplot `` as `` plt ``. `` pyplot `` is a sub-package of `` matplotlib ``, hence the dot. \n",
    "*   Use [`` plt.plot() ``](https://matplotlib.org/stable/api/_as_gen/matplotlib.pyplot.plot.html) to build a line plot. `` year `` should be mapped on the horizontal axis, `` pop `` on the vertical axis. Don't forget to finish off with the [`` plt.show() ``](https://matplotlib.org/stable/api/_as_gen/matplotlib.pyplot.show.html) function to actually display the plot."
   ]
  },
  {
   "cell_type": "code",
   "execution_count": null,
   "id": "09746ce0",
   "metadata": {
    "nbgrader": {
     "grade": false,
     "grade_id": "pec_12",
     "locked": true,
     "schema_version": 3,
     "solution": false,
     "task": false
    }
   },
   "outputs": [],
   "source": [
    "# pec\n",
    "import matplotlib.pyplot as plt; import importlib; importlib.reload(plt)\n",
    "plt.clf()\n",
    "year = list(range(1950, 2101))\n",
    "pop = [2.53,2.57,2.62,2.67,2.71,2.76,2.81,2.86,2.92,2.97,3.03,3.08,3.14,3.2,3.26,3.33,3.4,3.47,3.54,3.62,3.69,3.77,3.84,3.92,4.,4.07,4.15,4.22,4.3,4.37,4.45,4.53,4.61,4.69,4.78,4.86,4.95,5.05,5.14,5.23,5.32,5.41,5.49,5.58,5.66,5.74,5.82,5.9,5.98,6.05,6.13,6.2,6.28,6.36,6.44,6.51,6.59,6.67,6.75,6.83,6.92,7.,7.08,7.16,7.24,7.32,7.4,7.48,7.56,7.64,7.72,7.79,7.87,7.94,8.01,8.08,8.15,8.22,8.29,8.36,8.42,8.49,8.56,8.62,8.68,8.74,8.8,8.86,8.92,8.98,9.04,9.09,9.15,9.2,9.26,9.31,9.36,9.41,9.46,9.5,9.55,9.6,9.64,9.68,9.73,9.77,9.81,9.85,9.88,9.92,9.96,9.99,10.03,10.06,10.09,10.13,10.16,10.19,10.22,10.25,10.28,10.31,10.33,10.36,10.38,10.41,10.43,10.46,10.48,10.5,10.52,10.55,10.57,10.59,10.61,10.63,10.65,10.66,10.68,10.7,10.72,10.73,10.75,10.77,10.78,10.79,10.81,10.82,10.83,10.84,10.85]"
   ]
  },
  {
   "cell_type": "markdown",
   "id": "240bb16f",
   "metadata": {
    "nbgrader": {
     "grade": false,
     "grade_id": "ques_12",
     "locked": true,
     "schema_version": 3,
     "solution": false,
     "task": false
    }
   },
   "source": [
    "```python \n",
    "# Print the last item from year and pop\n",
    "\n",
    "\n",
    "\n",
    "# Import matplotlib.pyplot as plt\n",
    "\n",
    "\n",
    "# Make a line plot: year on the x-axis, pop on the y-axis\n",
    "\n",
    "\n",
    "# Display the plot with plt.show()\n",
    "\n",
    "```"
   ]
  },
  {
   "cell_type": "code",
   "execution_count": null,
   "id": "91c8b7ce",
   "metadata": {
    "nbgrader": {
     "grade": false,
     "grade_id": "sol_12",
     "locked": false,
     "schema_version": 3,
     "solution": true,
     "task": false
    }
   },
   "outputs": [],
   "source": [
    "# Print the last item from year and pop\n",
    "print(year[-1])\n",
    "print(pop[-1])\n",
    "\n",
    "# Import matplotlib.pyplot as plt\n",
    "import matplotlib.pyplot as plt\n",
    "\n",
    "# Make a line plot: year on the x-axis, pop on the y-axis\n",
    "plt.plot(year, pop)\n",
    "\n",
    "# Display the plot with plt.show()\n",
    "plt.show()"
   ]
  },
  {
   "cell_type": "code",
   "execution_count": null,
   "id": "b171c841",
   "metadata": {
    "nbgrader": {
     "grade": true,
     "grade_id": "sct_12",
     "locked": true,
     "points": 100,
     "schema_version": 3,
     "solution": false,
     "task": false
    }
   },
   "outputs": [],
   "source": [
    "### BEGIN HIDDEN TESTS\n",
    "setup_state(stu_code='stc', sol_code='''# Print the last item from year and pop\n",
    "print(year[-1])\n",
    "print(pop[-1])\n",
    "\n",
    "# Import matplotlib.pyplot as plt\n",
    "import matplotlib.pyplot as plt\n",
    "\n",
    "# Make a line plot: year on the x-axis, pop on the y-axis\n",
    "plt.plot(year, pop)\n",
    "\n",
    "# Display the plot with plt.show()\n",
    "plt.show()\n",
    "''', pec='''# pec\n",
    "import matplotlib.pyplot as plt; import importlib; importlib.reload(plt)\n",
    "plt.clf()\n",
    "year = list(range(1950, 2101))\n",
    "pop = [2.53,2.57,2.62,2.67,2.71,2.76,2.81,2.86,2.92,2.97,3.03,3.08,3.14,3.2,3.26,3.33,3.4,3.47,3.54,3.62,3.69,3.77,3.84,3.92,4.,4.07,4.15,4.22,4.3,4.37,4.45,4.53,4.61,4.69,4.78,4.86,4.95,5.05,5.14,5.23,5.32,5.41,5.49,5.58,5.66,5.74,5.82,5.9,5.98,6.05,6.13,6.2,6.28,6.36,6.44,6.51,6.59,6.67,6.75,6.83,6.92,7.,7.08,7.16,7.24,7.32,7.4,7.48,7.56,7.64,7.72,7.79,7.87,7.94,8.01,8.08,8.15,8.22,8.29,8.36,8.42,8.49,8.56,8.62,8.68,8.74,8.8,8.86,8.92,8.98,9.04,9.09,9.15,9.2,9.26,9.31,9.36,9.41,9.46,9.5,9.55,9.6,9.64,9.68,9.73,9.77,9.81,9.85,9.88,9.92,9.96,9.99,10.03,10.06,10.09,10.13,10.16,10.19,10.22,10.25,10.28,10.31,10.33,10.36,10.38,10.41,10.43,10.46,10.48,10.5,10.52,10.55,10.57,10.59,10.61,10.63,10.65,10.66,10.68,10.7,10.72,10.73,10.75,10.77,10.78,10.79,10.81,10.82,10.83,10.84,10.85]''')\n",
    "Ex().multi(\n",
    "    has_printout(0),\n",
    "    has_printout(1)\n",
    ")\n",
    "\n",
    "Ex().has_import('matplotlib.pyplot')\n",
    "\n",
    "Ex().check_function(\"matplotlib.pyplot.plot\").multi(\n",
    "    check_args(['args', 0]).has_equal_ast(),\n",
    "    check_args(['args', 1]).has_equal_ast()\n",
    ")\n",
    "\n",
    "Ex().check_function(\"matplotlib.pyplot.show\")\n",
    "\n",
    "success_msg(\"Great! Let's interpret the plot you just created.\")\n",
    "### END HIDDEN TESTS"
   ]
  },
  {
   "cell_type": "markdown",
   "id": "479dca5a",
   "metadata": {
    "nbgrader": {
     "grade": false,
     "grade_id": "mcq_13",
     "locked": true,
     "schema_version": 3,
     "solution": false,
     "task": false
    }
   },
   "source": [
    "<hr style=\"border:10px solid steelblue\"> </hr>\n",
    "<div class=\"alert alert-block alert-success\">\n",
    "\n",
    "### Chapter 1 -  Exercise 3\n",
    "### Line Plot (2): Interpretation\n",
    "Have another look at the plot you created in the previous exercise; it's shown on the right. Based on the plot, in __approximately__ what year will there be more than ten billion human beings on this planet?\n",
    "</div><div class=\"alert alert-block alert-warning\">\n",
    "\n",
    "\n",
    "#### Instructions\n",
    "#### Possible Answers\n",
    "\n",
    "\n",
    "1. 2040\n",
    "\n",
    "2. 2060\n",
    "\n",
    "3. 2085\n",
    "\n",
    "4. 2095</div>"
   ]
  },
  {
   "cell_type": "code",
   "execution_count": null,
   "id": "020dc55b",
   "metadata": {
    "nbgrader": {
     "grade": false,
     "grade_id": "pec_13",
     "locked": true,
     "schema_version": 3,
     "solution": false,
     "task": false
    }
   },
   "outputs": [],
   "source": [
    "# pec\n",
    "import matplotlib.pyplot as plt; import importlib; importlib.reload(plt)\n",
    "plt.clf()\n",
    "year = list(range(1950, 2101))\n",
    "pop = [2.53,2.57,2.62,2.67,2.71,2.76,2.81,2.86,2.92,2.97,3.03,3.08,3.14,3.2,3.26,3.33,3.4,3.47,3.54,3.62,3.69,3.77,3.84,3.92,4.,4.07,4.15,4.22,4.3,4.37,4.45,4.53,4.61,4.69,4.78,4.86,4.95,5.05,5.14,5.23,5.32,5.41,5.49,5.58,5.66,5.74,5.82,5.9,5.98,6.05,6.13,6.2,6.28,6.36,6.44,6.51,6.59,6.67,6.75,6.83,6.92,7.,7.08,7.16,7.24,7.32,7.4,7.48,7.56,7.64,7.72,7.79,7.87,7.94,8.01,8.08,8.15,8.22,8.29,8.36,8.42,8.49,8.56,8.62,8.68,8.74,8.8,8.86,8.92,8.98,9.04,9.09,9.15,9.2,9.26,9.31,9.36,9.41,9.46,9.5,9.55,9.6,9.64,9.68,9.73,9.77,9.81,9.85,9.88,9.92,9.96,9.99,10.03,10.06,10.09,10.13,10.16,10.19,10.22,10.25,10.28,10.31,10.33,10.36,10.38,10.41,10.43,10.46,10.48,10.5,10.52,10.55,10.57,10.59,10.61,10.63,10.65,10.66,10.68,10.7,10.72,10.73,10.75,10.77,10.78,10.79,10.81,10.82,10.83,10.84,10.85]\n",
    "plt.plot(year,pop)\n",
    "plt.show()"
   ]
  },
  {
   "cell_type": "code",
   "execution_count": null,
   "id": "e6d28baf",
   "metadata": {
    "nbgrader": {
     "grade": true,
     "grade_id": "sct_13",
     "locked": true,
     "points": 50,
     "schema_version": 3,
     "solution": false,
     "task": false
    }
   },
   "outputs": [],
   "source": [
    "### BEGIN HIDDEN TESTS\n",
    "setup_state(stu_code='stc', sol_code='''\n",
    "''', pec='''# pec\n",
    "import matplotlib.pyplot as plt; import importlib; importlib.reload(plt)\n",
    "plt.clf()\n",
    "year = list(range(1950, 2101))\n",
    "pop = [2.53,2.57,2.62,2.67,2.71,2.76,2.81,2.86,2.92,2.97,3.03,3.08,3.14,3.2,3.26,3.33,3.4,3.47,3.54,3.62,3.69,3.77,3.84,3.92,4.,4.07,4.15,4.22,4.3,4.37,4.45,4.53,4.61,4.69,4.78,4.86,4.95,5.05,5.14,5.23,5.32,5.41,5.49,5.58,5.66,5.74,5.82,5.9,5.98,6.05,6.13,6.2,6.28,6.36,6.44,6.51,6.59,6.67,6.75,6.83,6.92,7.,7.08,7.16,7.24,7.32,7.4,7.48,7.56,7.64,7.72,7.79,7.87,7.94,8.01,8.08,8.15,8.22,8.29,8.36,8.42,8.49,8.56,8.62,8.68,8.74,8.8,8.86,8.92,8.98,9.04,9.09,9.15,9.2,9.26,9.31,9.36,9.41,9.46,9.5,9.55,9.6,9.64,9.68,9.73,9.77,9.81,9.85,9.88,9.92,9.96,9.99,10.03,10.06,10.09,10.13,10.16,10.19,10.22,10.25,10.28,10.31,10.33,10.36,10.38,10.41,10.43,10.46,10.48,10.5,10.52,10.55,10.57,10.59,10.61,10.63,10.65,10.66,10.68,10.7,10.72,10.73,10.75,10.77,10.78,10.79,10.81,10.82,10.83,10.84,10.85]\n",
    "plt.plot(year,pop)\n",
    "plt.show()''')\n",
    "msg1 = \"In 2041 the population wil be around 9 billion.\"\n",
    "msg2 = \"Correct! Time to take your data visualization skills to the next level!\"\n",
    "msg3 = \"By 2083 the world population will have exceeded 10 billion for a long time already.\"\n",
    "msg4 = \"By 2094 the world population will have exceeded 10 billion for a long time already.\"\n",
    "Ex().has_chosen(2, msgs = [msg1, msg2, msg3, msg4])\n",
    "### END HIDDEN TESTS"
   ]
  },
  {
   "cell_type": "markdown",
   "id": "39eaef05",
   "metadata": {
    "nbgrader": {
     "grade": false,
     "grade_id": "ins_14",
     "locked": true,
     "schema_version": 3,
     "solution": false,
     "task": false
    }
   },
   "source": [
    "<hr style=\"border:10px solid steelblue\"> </hr>\n",
    "<div class=\"alert alert-block alert-success\">\n",
    "\n",
    "### Chapter 1 -  Exercise 4\n",
    "### Line plot (3)\n",
    "Now that you've built your first line plot, let's start working on the data that professor Hans Rosling used to build his beautiful bubble chart. It was collected in 2007. Two lists are available for you:\n",
    "\n",
    "GDP stands for Gross Domestic Product. It basically represents the size of the economy of a country. Divide this by the population and you get the GDP per capita.\n",
    "\n",
    "`` matplotlib.pyplot `` is already imported as `` plt ``, so you can get started straight away.\n",
    "</div><div class=\"alert alert-block alert-warning\">\n",
    "\n",
    "\n",
    "#### Instructions\n",
    "\n",
    "\n",
    "*   Print the last item from both the list `` gdp_cap ``, and the list `` life_exp ``; it is information about Zimbabwe.\n",
    "*   Build a line chart, with `` gdp_cap `` on the x-axis, and `` life_exp `` on the y-axis. Does it make sense to plot this data on a line plot? \n",
    "*   Don't forget to finish off with a `` plt.show() `` command, to actually display the plot."
   ]
  },
  {
   "cell_type": "code",
   "execution_count": null,
   "id": "d342a596",
   "metadata": {
    "nbgrader": {
     "grade": false,
     "grade_id": "pec_14",
     "locked": true,
     "schema_version": 3,
     "solution": false,
     "task": false
    }
   },
   "outputs": [],
   "source": [
    "# pec\n",
    "import matplotlib.pyplot as plt; import importlib; importlib.reload(plt)\n",
    "import pandas as pd\n",
    "plt.clf()\n",
    "\n",
    "df = pd.read_csv('https://assets.datacamp.com/course/intermediate_python/gapminder.csv', index_col = 0)\n",
    "gdp_cap = list(df.gdp_cap)\n",
    "life_exp = list(df.life_exp)"
   ]
  },
  {
   "cell_type": "markdown",
   "id": "214aca6a",
   "metadata": {
    "nbgrader": {
     "grade": false,
     "grade_id": "ques_14",
     "locked": true,
     "schema_version": 3,
     "solution": false,
     "task": false
    }
   },
   "source": [
    "```python \n",
    "# Print the last item of gdp_cap and life_exp\n",
    "\n",
    "\n",
    "\n",
    "# Make a line plot, gdp_cap on the x-axis, life_exp on the y-axis\n",
    "\n",
    "\n",
    "# Display the plot\n",
    "\n",
    "```"
   ]
  },
  {
   "cell_type": "code",
   "execution_count": null,
   "id": "b6955d5f",
   "metadata": {
    "nbgrader": {
     "grade": false,
     "grade_id": "sol_14",
     "locked": false,
     "schema_version": 3,
     "solution": true,
     "task": false
    }
   },
   "outputs": [],
   "source": [
    "# Print the last item of gdp_cap and life_exp\n",
    "print(gdp_cap[-1])\n",
    "print(life_exp[-1])\n",
    "\n",
    "# Make a line plot, gdp_cap on the x-axis, life_exp on the y-axis\n",
    "plt.plot(gdp_cap, life_exp)\n",
    "\n",
    "# Display the plot\n",
    "plt.show()"
   ]
  },
  {
   "cell_type": "code",
   "execution_count": null,
   "id": "cbf34aa9",
   "metadata": {
    "nbgrader": {
     "grade": true,
     "grade_id": "sct_14",
     "locked": true,
     "points": 100,
     "schema_version": 3,
     "solution": false,
     "task": false
    }
   },
   "outputs": [],
   "source": [
    "### BEGIN HIDDEN TESTS\n",
    "setup_state(stu_code='stc', sol_code='''# Print the last item of gdp_cap and life_exp\n",
    "print(gdp_cap[-1])\n",
    "print(life_exp[-1])\n",
    "\n",
    "# Make a line plot, gdp_cap on the x-axis, life_exp on the y-axis\n",
    "plt.plot(gdp_cap, life_exp)\n",
    "\n",
    "# Display the plot\n",
    "plt.show()\n",
    "''', pec='''# pec\n",
    "import matplotlib.pyplot as plt; import importlib; importlib.reload(plt)\n",
    "import pandas as pd\n",
    "plt.clf()\n",
    "\n",
    "df = pd.read_csv('https://assets.datacamp.com/course/intermediate_python/gapminder.csv', index_col = 0)\n",
    "gdp_cap = list(df.gdp_cap)\n",
    "life_exp = list(df.life_exp)''')\n",
    "Ex().multi(\n",
    "    has_printout(0),\n",
    "    has_printout(1)\n",
    ")\n",
    "\n",
    "Ex().check_function('matplotlib.pyplot.plot').multi(\n",
    "    check_args(['args', 0]).has_equal_ast(),\n",
    "    check_args(['args', 1]).has_equal_ast()\n",
    ")\n",
    "\n",
    "msg = \"Have you included `plt.show()` to actually display the plot?\"\n",
    "Ex().check_function(\"matplotlib.pyplot.show\", index = 0, missing_msg=msg)\n",
    "\n",
    "success_msg(\"Well done, but this doesn't look right. Let's build a plot that makes more sense.\")\n",
    "### END HIDDEN TESTS"
   ]
  },
  {
   "cell_type": "markdown",
   "id": "d38dfa6f",
   "metadata": {
    "nbgrader": {
     "grade": false,
     "grade_id": "ins_15",
     "locked": true,
     "schema_version": 3,
     "solution": false,
     "task": false
    }
   },
   "source": [
    "<hr style=\"border:10px solid steelblue\"> </hr>\n",
    "<div class=\"alert alert-block alert-success\">\n",
    "\n",
    "### Chapter 1 -  Exercise 5\n",
    "### Scatter Plot (1)\n",
    "When you have a time scale along the horizontal axis, the line plot is your friend. But in many other cases, when you're trying to assess if there's a correlation between two variables, for example, the scatter plot is the better choice. Below is an example of how to build a scatter plot.\n",
    "\n",
    "Let's continue with the `` gdp_cap `` versus `` life_exp `` plot, the GDP and life expectancy data for different countries in 2007. Maybe a scatter plot will be a better alternative?\n",
    "\n",
    "Again, the `` matplotlib.pyplot `` package is available as `` plt ``.\n",
    "</div><div class=\"alert alert-block alert-warning\">\n",
    "\n",
    "\n",
    "#### Instructions\n",
    "\n",
    "\n",
    "*   Change the line plot that's coded in the script to a scatter plot.\n",
    "*   A correlation will become clear when you display the GDP per capita on a logarithmic scale. Add the line `` plt.xscale('log') ``.\n",
    "*   Finish off your script with `` plt.show() `` to display the plot."
   ]
  },
  {
   "cell_type": "code",
   "execution_count": null,
   "id": "55a4e159",
   "metadata": {
    "nbgrader": {
     "grade": false,
     "grade_id": "pec_15",
     "locked": true,
     "schema_version": 3,
     "solution": false,
     "task": false
    }
   },
   "outputs": [],
   "source": [
    "# pec\n",
    "import matplotlib.pyplot as plt; import importlib; importlib.reload(plt)\n",
    "import pandas as pd\n",
    "plt.clf()\n",
    "\n",
    "df = pd.read_csv('https://assets.datacamp.com/course/intermediate_python/gapminder.csv', index_col = 0)\n",
    "gdp_cap = list(df.gdp_cap)\n",
    "life_exp = list(df.life_exp)"
   ]
  },
  {
   "cell_type": "markdown",
   "id": "2403660e",
   "metadata": {
    "nbgrader": {
     "grade": false,
     "grade_id": "ques_15",
     "locked": true,
     "schema_version": 3,
     "solution": false,
     "task": false
    }
   },
   "source": [
    "```python \n",
    "# Change the line plot below to a scatter plot\n",
    "plt.plot(gdp_cap, life_exp)\n",
    "\n",
    "# Put the x-axis on a logarithmic scale\n",
    "\n",
    "\n",
    "# Show plot\n",
    "\n",
    "```"
   ]
  },
  {
   "cell_type": "code",
   "execution_count": null,
   "id": "b4404d9d",
   "metadata": {
    "nbgrader": {
     "grade": false,
     "grade_id": "sol_15",
     "locked": false,
     "schema_version": 3,
     "solution": true,
     "task": false
    }
   },
   "outputs": [],
   "source": [
    "# Change the line plot below to a scatter plot\n",
    "plt.scatter(gdp_cap, life_exp)\n",
    "\n",
    "# Put the x-axis on a logarithmic scale\n",
    "plt.xscale('log')\n",
    "\n",
    "# Show plot\n",
    "plt.show()"
   ]
  },
  {
   "cell_type": "code",
   "execution_count": null,
   "id": "5150294e",
   "metadata": {
    "nbgrader": {
     "grade": true,
     "grade_id": "sct_15",
     "locked": true,
     "points": 100,
     "schema_version": 3,
     "solution": false,
     "task": false
    }
   },
   "outputs": [],
   "source": [
    "### BEGIN HIDDEN TESTS\n",
    "setup_state(stu_code='stc', sol_code='''# Change the line plot below to a scatter plot\n",
    "plt.scatter(gdp_cap, life_exp)\n",
    "\n",
    "# Put the x-axis on a logarithmic scale\n",
    "plt.xscale('log')\n",
    "\n",
    "# Show plot\n",
    "plt.show()\n",
    "''', pec='''# pec\n",
    "import matplotlib.pyplot as plt; import importlib; importlib.reload(plt)\n",
    "import pandas as pd\n",
    "plt.clf()\n",
    "\n",
    "df = pd.read_csv('https://assets.datacamp.com/course/intermediate_python/gapminder.csv', index_col = 0)\n",
    "gdp_cap = list(df.gdp_cap)\n",
    "life_exp = list(df.life_exp)''')\n",
    "msg = \"Use `plt.scatter(gdp_cap, life_exp)` to make a scatter plot.\"\n",
    "Ex().check_function(\"matplotlib.pyplot.scatter\").multi(\n",
    "    check_args(0).has_equal_ast(),\n",
    "    check_args(1).has_equal_ast()\n",
    ")\n",
    "\n",
    "Ex().check_function('matplotlib.pyplot.xscale').check_args(0).has_equal_value()\n",
    "\n",
    "msg = \"Have you included `plt.show()` to actually display the plot?\"\n",
    "Ex().check_function('matplotlib.pyplot.show', missing_msg=msg)\n",
    "\n",
    "success_msg(\"Great! That looks much better!\")\n",
    "### END HIDDEN TESTS"
   ]
  },
  {
   "cell_type": "markdown",
   "id": "05dd741d",
   "metadata": {
    "nbgrader": {
     "grade": false,
     "grade_id": "ins_16",
     "locked": true,
     "schema_version": 3,
     "solution": false,
     "task": false
    }
   },
   "source": [
    "<hr style=\"border:10px solid steelblue\"> </hr>\n",
    "<div class=\"alert alert-block alert-success\">\n",
    "\n",
    "### Chapter 1 -  Exercise 6\n",
    "### Scatter plot (2)\n",
    "In the previous exercise, you saw that the higher GDP usually corresponds to a higher life expectancy. In other words, there is a positive correlation.\n",
    "\n",
    "Do you think there's a relationship between population and life expectancy of a country? The list `` life_exp `` from the previous exercise is already available. In addition, now also `` pop `` is available, listing the corresponding populations for the countries in 2007. The populations are in millions of people.\n",
    "</div><div class=\"alert alert-block alert-warning\">\n",
    "\n",
    "\n",
    "#### Instructions\n",
    "\n",
    "\n",
    "*   Start from scratch: import `` matplotlib.pyplot `` as `` plt ``.\n",
    "*   Build a scatter plot, where `` pop `` is mapped on the horizontal axis, and `` life_exp `` is mapped on the vertical axis. \n",
    "*   Finish the script with `` plt.show() `` to actually display the plot. Do you see a correlation?"
   ]
  },
  {
   "cell_type": "code",
   "execution_count": null,
   "id": "ff97a804",
   "metadata": {
    "nbgrader": {
     "grade": false,
     "grade_id": "pec_16",
     "locked": true,
     "schema_version": 3,
     "solution": false,
     "task": false
    }
   },
   "outputs": [],
   "source": [
    "# pec\n",
    "import matplotlib.pyplot as plt; import importlib; importlib.reload(plt)\n",
    "import pandas as pd\n",
    "plt.clf()\n",
    "\n",
    "df = pd.read_csv('https://assets.datacamp.com/course/intermediate_python/gapminder.csv', index_col = 0)\n",
    "pop = list(df['population']/1000000)\n",
    "life_exp = list(df.life_exp)"
   ]
  },
  {
   "cell_type": "markdown",
   "id": "143df436",
   "metadata": {
    "nbgrader": {
     "grade": false,
     "grade_id": "ques_16",
     "locked": true,
     "schema_version": 3,
     "solution": false,
     "task": false
    }
   },
   "source": [
    "```python \n",
    "# Import package\n",
    "\n",
    "\n",
    "# Build Scatter plot\n",
    "\n",
    "\n",
    "# Show plot\n",
    "\n",
    "```"
   ]
  },
  {
   "cell_type": "code",
   "execution_count": null,
   "id": "9c926dbb",
   "metadata": {
    "nbgrader": {
     "grade": false,
     "grade_id": "sol_16",
     "locked": false,
     "schema_version": 3,
     "solution": true,
     "task": false
    }
   },
   "outputs": [],
   "source": [
    "# Import package\n",
    "import matplotlib.pyplot as plt\n",
    "\n",
    "# Build Scatter plot\n",
    "plt.scatter(pop, life_exp)\n",
    "\n",
    "# Show plot\n",
    "plt.show()"
   ]
  },
  {
   "cell_type": "code",
   "execution_count": null,
   "id": "7ca17ad5",
   "metadata": {
    "nbgrader": {
     "grade": true,
     "grade_id": "sct_16",
     "locked": true,
     "points": 100,
     "schema_version": 3,
     "solution": false,
     "task": false
    }
   },
   "outputs": [],
   "source": [
    "### BEGIN HIDDEN TESTS\n",
    "setup_state(stu_code='stc', sol_code='''# Import package\n",
    "import matplotlib.pyplot as plt\n",
    "\n",
    "# Build Scatter plot\n",
    "plt.scatter(pop, life_exp)\n",
    "\n",
    "# Show plot\n",
    "plt.show()\n",
    "''', pec='''# pec\n",
    "import matplotlib.pyplot as plt; import importlib; importlib.reload(plt)\n",
    "import pandas as pd\n",
    "plt.clf()\n",
    "\n",
    "df = pd.read_csv('https://assets.datacamp.com/course/intermediate_python/gapminder.csv', index_col = 0)\n",
    "pop = list(df['population']/1000000)\n",
    "life_exp = list(df.life_exp)''')\n",
    "Ex().has_import(\"matplotlib.pyplot\")\n",
    "\n",
    "msg = \"Use `plt.scatter(pop, life_exp)` to make a scatter plot.\"\n",
    "Ex().check_function(\"matplotlib.pyplot.scatter\").multi(\n",
    "  check_args(0).has_equal_ast(),\n",
    "  check_args(1).has_equal_ast() \n",
    ")\n",
    "  \n",
    "msg = \"Have you included `plt.show()` to actually display the plot?\"\n",
    "Ex().check_function('matplotlib.pyplot.show', missing_msg=msg)\n",
    "  \n",
    "success_msg(\"Nice! There's no clear relationship between population and life expectancy, which makes perfect sense.\")\n",
    "### END HIDDEN TESTS"
   ]
  },
  {
   "cell_type": "markdown",
   "id": "28baf641",
   "metadata": {
    "nbgrader": {
     "grade": false,
     "grade_id": "ins_18",
     "locked": true,
     "schema_version": 3,
     "solution": false,
     "task": false
    }
   },
   "source": [
    "<hr style=\"border:10px solid steelblue\"> </hr>\n",
    "<div class=\"alert alert-block alert-success\">\n",
    "\n",
    "### Chapter 1 -  Exercise 8\n",
    "### Build a histogram (1)\n",
    "`` life_exp ``, the list containing data on the life expectancy for different countries in 2007, is available in your Python shell.\n",
    "\n",
    "To see how life expectancy in different countries is distributed, let's create a histogram of `` life_exp ``.\n",
    "\n",
    "`` matplotlib.pyplot `` is already available as `` plt ``.\n",
    "</div><div class=\"alert alert-block alert-warning\">\n",
    "\n",
    "\n",
    "#### Instructions\n",
    "\n",
    "\n",
    "*   Use [`` plt.hist() ``](https://matplotlib.org/stable/api/_as_gen/matplotlib.pyplot.hist.html) to create a histogram of the values in `` life_exp ``. Do not specify the number of bins; Python will set the number of bins to 10 by default for you.\n",
    "*   Add `` plt.show() `` to actually display the histogram. Can you tell which bin contains the most observations?"
   ]
  },
  {
   "cell_type": "code",
   "execution_count": null,
   "id": "e4598fd2",
   "metadata": {
    "nbgrader": {
     "grade": false,
     "grade_id": "pec_18",
     "locked": true,
     "schema_version": 3,
     "solution": false,
     "task": false
    }
   },
   "outputs": [],
   "source": [
    "# pec\n",
    "import matplotlib.pyplot as plt; import importlib; importlib.reload(plt)\n",
    "import pandas as pd\n",
    "plt.clf()\n",
    "df = pd.read_csv('https://assets.datacamp.com/course/intermediate_python/gapminder.csv', index_col = 0)\n",
    "life_exp = list(df.life_exp)"
   ]
  },
  {
   "cell_type": "markdown",
   "id": "e41c2abf",
   "metadata": {
    "nbgrader": {
     "grade": false,
     "grade_id": "ques_18",
     "locked": true,
     "schema_version": 3,
     "solution": false,
     "task": false
    }
   },
   "source": [
    "```python \n",
    "# Create histogram of life_exp data\n",
    "\n",
    "\n",
    "# Display histogram\n",
    "\n",
    "```"
   ]
  },
  {
   "cell_type": "code",
   "execution_count": null,
   "id": "4c66af76",
   "metadata": {
    "nbgrader": {
     "grade": false,
     "grade_id": "sol_18",
     "locked": false,
     "schema_version": 3,
     "solution": true,
     "task": false
    }
   },
   "outputs": [],
   "source": [
    "# Create histogram of life_exp data\n",
    "plt.hist(life_exp)\n",
    "\n",
    "# Display histogram\n",
    "plt.show()"
   ]
  },
  {
   "cell_type": "code",
   "execution_count": null,
   "id": "cdc86f7c",
   "metadata": {
    "nbgrader": {
     "grade": true,
     "grade_id": "sct_18",
     "locked": true,
     "points": 100,
     "schema_version": 3,
     "solution": false,
     "task": false
    }
   },
   "outputs": [],
   "source": [
    "### BEGIN HIDDEN TESTS\n",
    "setup_state(stu_code='stc', sol_code='''# Create histogram of life_exp data\n",
    "plt.hist(life_exp)\n",
    "\n",
    "# Display histogram\n",
    "plt.show()\n",
    "''', pec='''# pec\n",
    "import matplotlib.pyplot as plt; import importlib; importlib.reload(plt)\n",
    "import pandas as pd\n",
    "plt.clf()\n",
    "df = pd.read_csv('https://assets.datacamp.com/course/intermediate_python/gapminder.csv', index_col = 0)\n",
    "life_exp = list(df.life_exp)''')\n",
    "Ex().check_function(\"matplotlib.pyplot.hist\").check_args(0).has_equal_value()\n",
    "msg = \"Have you included `plt.show()` to actually display the plot?\"\n",
    "Ex().check_function('matplotlib.pyplot.show', missing_msg=msg)\n",
    "success_msg(\"Great job!\")\n",
    "### END HIDDEN TESTS"
   ]
  },
  {
   "cell_type": "markdown",
   "id": "2b39cfaa",
   "metadata": {
    "nbgrader": {
     "grade": false,
     "grade_id": "ins_19",
     "locked": true,
     "schema_version": 3,
     "solution": false,
     "task": false
    }
   },
   "source": [
    "<hr style=\"border:10px solid steelblue\"> </hr>\n",
    "<div class=\"alert alert-block alert-success\">\n",
    "\n",
    "### Chapter 1 -  Exercise 9\n",
    "### Build a histogram (2): bins\n",
    "In the previous exercise, you didn't specify the number of bins. By default, Python sets the number of bins to 10 in that case. The number of bins is pretty important. Too few bins will oversimplify reality and won't show you the details. Too many bins will overcomplicate reality and won't show the bigger picture.\n",
    "\n",
    "To control the number of bins to divide your data in, you can set the `` bins `` argument.\n",
    "\n",
    "That's exactly what you'll do in this exercise. You'll be making two plots here. The code in the script already includes `` plt.show() `` and `` plt.clf() `` calls; `` plt.show() `` displays a plot; `` plt.clf() `` cleans it up again so you can start afresh.\n",
    "\n",
    "As before, `` life_exp `` is available and `` matplotlib.pyplot `` is imported as `` plt ``.\n",
    "</div><div class=\"alert alert-block alert-warning\">\n",
    "\n",
    "\n",
    "#### Instructions\n",
    "\n",
    "\n",
    "*   Build a histogram of `` life_exp ``, with `` 5 `` bins. Can you tell which bin contains the most observations?\n",
    "*   Build another histogram of `` life_exp ``, this time with `` 20 `` bins. Is this better?"
   ]
  },
  {
   "cell_type": "code",
   "execution_count": null,
   "id": "3e8bee3d",
   "metadata": {
    "nbgrader": {
     "grade": false,
     "grade_id": "pec_19",
     "locked": true,
     "schema_version": 3,
     "solution": false,
     "task": false
    }
   },
   "outputs": [],
   "source": [
    "# pec\n",
    "import matplotlib.pyplot as plt; import importlib; importlib.reload(plt)\n",
    "import pandas as pd\n",
    "plt.clf()\n",
    "df = pd.read_csv('https://assets.datacamp.com/course/intermediate_python/gapminder.csv', index_col = 0)\n",
    "life_exp = list(df.life_exp)"
   ]
  },
  {
   "cell_type": "markdown",
   "id": "71beca0c",
   "metadata": {
    "nbgrader": {
     "grade": false,
     "grade_id": "ques_19",
     "locked": true,
     "schema_version": 3,
     "solution": false,
     "task": false
    }
   },
   "source": [
    "```python \n",
    "# Build histogram with 5 bins\n",
    "\n",
    "\n",
    "# Show and clean up plot\n",
    "plt.show()\n",
    "plt.clf()\n",
    "\n",
    "# Build histogram with 20 bins\n",
    "\n",
    "\n",
    "# Show and clean up again\n",
    "plt.show()\n",
    "plt.clf()\n",
    "```"
   ]
  },
  {
   "cell_type": "code",
   "execution_count": null,
   "id": "4a7fc3cc",
   "metadata": {
    "nbgrader": {
     "grade": false,
     "grade_id": "sol_19",
     "locked": false,
     "schema_version": 3,
     "solution": true,
     "task": false
    }
   },
   "outputs": [],
   "source": [
    "# Build histogram with 5 bins\n",
    "plt.hist(life_exp, bins = 5)\n",
    "\n",
    "# Show and clear plot\n",
    "plt.show()\n",
    "plt.clf()\n",
    "\n",
    "# Build histogram with 20 bins\n",
    "plt.hist(life_exp, bins = 20)\n",
    "\n",
    "# Show and clear plot again\n",
    "plt.show()\n",
    "plt.clf()"
   ]
  },
  {
   "cell_type": "code",
   "execution_count": null,
   "id": "1dfda210",
   "metadata": {
    "nbgrader": {
     "grade": true,
     "grade_id": "sct_19",
     "locked": true,
     "points": 100,
     "schema_version": 3,
     "solution": false,
     "task": false
    }
   },
   "outputs": [],
   "source": [
    "### BEGIN HIDDEN TESTS\n",
    "setup_state(stu_code='stc', sol_code='''# Build histogram with 5 bins\n",
    "plt.hist(life_exp, bins = 5)\n",
    "\n",
    "# Show and clear plot\n",
    "plt.show()\n",
    "plt.clf()\n",
    "\n",
    "# Build histogram with 20 bins\n",
    "plt.hist(life_exp, bins = 20)\n",
    "\n",
    "# Show and clear plot again\n",
    "plt.show()\n",
    "plt.clf()\n",
    "''', pec='''# pec\n",
    "import matplotlib.pyplot as plt; import importlib; importlib.reload(plt)\n",
    "import pandas as pd\n",
    "plt.clf()\n",
    "df = pd.read_csv('https://assets.datacamp.com/course/intermediate_python/gapminder.csv', index_col = 0)\n",
    "life_exp = list(df.life_exp)''')\n",
    "Ex().check_function(\"matplotlib.pyplot.hist\", index=0).multi(\n",
    "    check_args(0).has_equal_ast(),\n",
    "    check_args('bins').has_equal_value()\n",
    ")\n",
    "\n",
    "msg = \"Make sure to keep the `plt.show()` function to display the first histogram.\"\n",
    "Ex().check_function(\"matplotlib.pyplot.show\", index=0, missing_msg=msg)\n",
    "msg = \"Make sure to keep the first `plt.clf()` call.\"\n",
    "Ex().check_function(\"matplotlib.pyplot.clf\", index=0, missing_msg=msg)\n",
    "  \n",
    "Ex().check_function(\"matplotlib.pyplot.hist\", index=1).multi(\n",
    "    check_args(0).has_equal_ast(),\n",
    "    check_args('bins').has_equal_value()\n",
    ")\n",
    "\n",
    "msg = \"Make sure to keep the `plt.show()` function to display the second histogram.\"\n",
    "Ex().check_function(\"matplotlib.pyplot.show\", index=1, missing_msg=msg)\n",
    "msg = \"Make sure to keep the second `plt.clf()` call.\"\n",
    "Ex().check_function(\"matplotlib.pyplot.clf\", index=1, missing_msg=msg)\n",
    "  \n",
    "success_msg(\"Nice! You can use the buttons to browse through the different plots you've created.\")\n",
    "### END HIDDEN TESTS"
   ]
  },
  {
   "cell_type": "markdown",
   "id": "5ef579de",
   "metadata": {
    "nbgrader": {
     "grade": false,
     "grade_id": "ins_110",
     "locked": true,
     "schema_version": 3,
     "solution": false,
     "task": false
    }
   },
   "source": [
    "<hr style=\"border:10px solid steelblue\"> </hr>\n",
    "<div class=\"alert alert-block alert-success\">\n",
    "\n",
    "### Chapter 1 -  Exercise 10\n",
    "### Build a histogram (3): compare\n",
    "In the video, you saw population pyramids for the present day and for the future. Because we were using a histogram, it was very easy to make a comparison.\n",
    "\n",
    "Let's do a similar comparison. `` life_exp `` contains life expectancy data for different countries in 2007. You also have access to a second list now, `` life_exp1950 ``, containing similar data for 1950. Can you make a histogram for both datasets?\n",
    "\n",
    "You'll again be making two plots. The `` plt.show() `` and `` plt.clf() `` commands to render everything nicely are already included. Also `` matplotlib.pyplot `` is imported for you, as `` plt ``.\n",
    "</div><div class=\"alert alert-block alert-warning\">\n",
    "\n",
    "\n",
    "#### Instructions\n",
    "\n",
    "\n",
    "*   Build a histogram of `` life_exp `` with `` 15 `` bins.\n",
    "*   Build a histogram of `` life_exp1950 ``, also with `` 15 `` bins. Is there a big difference with the histogram for the 2007 data?"
   ]
  },
  {
   "cell_type": "code",
   "execution_count": null,
   "id": "3d7c35fe",
   "metadata": {
    "nbgrader": {
     "grade": false,
     "grade_id": "pec_110",
     "locked": true,
     "schema_version": 3,
     "solution": false,
     "task": false
    }
   },
   "outputs": [],
   "source": [
    "# pec\n",
    "import matplotlib.pyplot as plt; import importlib; importlib.reload(plt)\n",
    "import pandas as pd\n",
    "plt.clf()\n",
    "df = pd.read_csv('https://assets.datacamp.com/course/intermediate_python/gapminder.csv', index_col = 0)\n",
    "life_exp = list(df.life_exp)\n",
    "life_exp1950 = [28.8,55.23,43.08,30.02,62.48,69.12,66.8,50.94,37.48,68.0,38.22,40.41,53.82,47.62,50.92,59.6,31.98,39.03,39.42,38.52,68.75,35.46,38.09,54.74,44.0,50.64,40.72,39.14,42.11,57.21,40.48,61.21,59.42,66.87,70.78,34.81,45.93,48.36,41.89,45.26,34.48,35.93,34.08,66.55,67.41,37.0,30.0,67.5,43.15,65.86,42.02,33.61,32.5,37.58,41.91,60.96,64.03,72.49,37.37,37.47,44.87,45.32,66.91,65.39,65.94,58.53,63.03,43.16,42.27,50.06,47.45,55.56,55.93,42.14,38.48,42.72,36.68,36.26,48.46,33.68,40.54,50.99,50.79,42.24,59.16,42.87,31.29,36.32,41.72,36.16,72.13,69.39,42.31,37.44,36.32,72.67,37.58,43.44,55.19,62.65,43.9,47.75,61.31,59.82,64.28,52.72,61.05,40.0,46.47,39.88,37.28,58.0,30.33,60.4,64.36,65.57,32.98,45.01,64.94,57.59,38.64,41.41,71.86,69.62,45.88,58.5,41.22,50.85,38.6,59.1,44.6,43.58,39.98,69.18,68.44,66.07,55.09,40.41,43.16,32.55,42.04,48.45]"
   ]
  },
  {
   "cell_type": "markdown",
   "id": "8f4ba002",
   "metadata": {
    "nbgrader": {
     "grade": false,
     "grade_id": "ques_110",
     "locked": true,
     "schema_version": 3,
     "solution": false,
     "task": false
    }
   },
   "source": [
    "```python \n",
    "# Histogram of life_exp, 15 bins\n",
    "\n",
    "\n",
    "# Show and clear plot\n",
    "plt.show()\n",
    "plt.clf()\n",
    "\n",
    "# Histogram of life_exp1950, 15 bins\n",
    "\n",
    "\n",
    "# Show and clear plot again\n",
    "plt.show()\n",
    "plt.clf()\n",
    "```"
   ]
  },
  {
   "cell_type": "code",
   "execution_count": null,
   "id": "705493c9",
   "metadata": {
    "nbgrader": {
     "grade": false,
     "grade_id": "sol_110",
     "locked": false,
     "schema_version": 3,
     "solution": true,
     "task": false
    }
   },
   "outputs": [],
   "source": [
    "# Histogram of life_exp, 15 bins\n",
    "plt.hist(life_exp, bins = 15)\n",
    "\n",
    "# Show and clear plot\n",
    "plt.show()\n",
    "plt.clf()\n",
    "\n",
    "# Histogram of life_exp1950, 15 bins\n",
    "plt.hist(life_exp1950, bins = 15)\n",
    "\n",
    "# Show and clear plot again\n",
    "plt.show()\n",
    "plt.clf()"
   ]
  },
  {
   "cell_type": "code",
   "execution_count": null,
   "id": "2ebae75a",
   "metadata": {
    "nbgrader": {
     "grade": true,
     "grade_id": "sct_110",
     "locked": true,
     "points": 100,
     "schema_version": 3,
     "solution": false,
     "task": false
    }
   },
   "outputs": [],
   "source": [
    "### BEGIN HIDDEN TESTS\n",
    "setup_state(stu_code='stc', sol_code='''# Histogram of life_exp, 15 bins\n",
    "plt.hist(life_exp, bins = 15)\n",
    "\n",
    "# Show and clear plot\n",
    "plt.show()\n",
    "plt.clf()\n",
    "\n",
    "# Histogram of life_exp1950, 15 bins\n",
    "plt.hist(life_exp1950, bins = 15)\n",
    "\n",
    "# Show and clear plot again\n",
    "plt.show()\n",
    "plt.clf()\n",
    "''', pec='''# pec\n",
    "import matplotlib.pyplot as plt; import importlib; importlib.reload(plt)\n",
    "import pandas as pd\n",
    "plt.clf()\n",
    "df = pd.read_csv('https://assets.datacamp.com/course/intermediate_python/gapminder.csv', index_col = 0)\n",
    "life_exp = list(df.life_exp)\n",
    "life_exp1950 = [28.8,55.23,43.08,30.02,62.48,69.12,66.8,50.94,37.48,68.0,38.22,40.41,53.82,47.62,50.92,59.6,31.98,39.03,39.42,38.52,68.75,35.46,38.09,54.74,44.0,50.64,40.72,39.14,42.11,57.21,40.48,61.21,59.42,66.87,70.78,34.81,45.93,48.36,41.89,45.26,34.48,35.93,34.08,66.55,67.41,37.0,30.0,67.5,43.15,65.86,42.02,33.61,32.5,37.58,41.91,60.96,64.03,72.49,37.37,37.47,44.87,45.32,66.91,65.39,65.94,58.53,63.03,43.16,42.27,50.06,47.45,55.56,55.93,42.14,38.48,42.72,36.68,36.26,48.46,33.68,40.54,50.99,50.79,42.24,59.16,42.87,31.29,36.32,41.72,36.16,72.13,69.39,42.31,37.44,36.32,72.67,37.58,43.44,55.19,62.65,43.9,47.75,61.31,59.82,64.28,52.72,61.05,40.0,46.47,39.88,37.28,58.0,30.33,60.4,64.36,65.57,32.98,45.01,64.94,57.59,38.64,41.41,71.86,69.62,45.88,58.5,41.22,50.85,38.6,59.1,44.6,43.58,39.98,69.18,68.44,66.07,55.09,40.41,43.16,32.55,42.04,48.45]''')\n",
    "Ex().check_function(\"matplotlib.pyplot.hist\", index = 0).multi(\n",
    "  check_args('x').has_equal_ast(),\n",
    "  check_args('bins').has_equal_value()\n",
    ")\n",
    "\n",
    "msg = \"Make sure to keep the `plt.show()` function to display the first histogram.\"\n",
    "Ex().check_function(\"matplotlib.pyplot.show\", index=0, missing_msg=msg)\n",
    "msg = \"Make sure to keep the first `plt.clf()` call.\"\n",
    "Ex().check_function(\"matplotlib.pyplot.clf\", index=0, missing_msg=msg)\n",
    "  \n",
    "Ex().check_function(\"matplotlib.pyplot.hist\", index=1).multi(\n",
    "    check_args(0).has_equal_ast(),\n",
    "    check_args('bins').has_equal_value()\n",
    ")\n",
    "\n",
    "msg = \"Make sure to keep the `plt.show()` function to display the second histogram.\"\n",
    "Ex().check_function(\"matplotlib.pyplot.show\", index=1, missing_msg=msg)\n",
    "msg = \"Make sure to keep the second `plt.clf()` call.\"\n",
    "Ex().check_function(\"matplotlib.pyplot.clf\", index=1, missing_msg=msg)\n",
    "\n",
    "success_msg(\"Great! Toggle between the created plots - do you notice anything interesting?\")\n",
    "### END HIDDEN TESTS"
   ]
  },
  {
   "cell_type": "markdown",
   "id": "966cd6f9",
   "metadata": {
    "nbgrader": {
     "grade": false,
     "grade_id": "mcq_111",
     "locked": true,
     "schema_version": 3,
     "solution": false,
     "task": false
    }
   },
   "source": [
    "<hr style=\"border:10px solid steelblue\"> </hr>\n",
    "<div class=\"alert alert-block alert-success\">\n",
    "\n",
    "### Chapter 1 -  Exercise 11\n",
    "### Choose the right plot (1)\n",
    "You're a professor teaching Data Science with Python, and you want to visually assess if the grades on your exam follow a particular distribution. Which plot do you use?\n",
    "</div><div class=\"alert alert-block alert-warning\">\n",
    "\n",
    "\n",
    "#### Instructions\n",
    "#### Possible Answers\n",
    "\n",
    "\n",
    "1. Line plot\n",
    "\n",
    "2. Scatter plot\n",
    "\n",
    "3. Histogram</div>"
   ]
  },
  {
   "cell_type": "code",
   "execution_count": null,
   "id": "a8730070",
   "metadata": {
    "nbgrader": {
     "grade": true,
     "grade_id": "sct_111",
     "locked": true,
     "points": 50,
     "schema_version": 3,
     "solution": false,
     "task": false
    }
   },
   "outputs": [],
   "source": [
    "### BEGIN HIDDEN TESTS\n",
    "setup_state(stu_code='stc', sol_code='''\n",
    "''', pec='''# pec''')\n",
    "msg1 = \"Incorrect. A line plot won't give you a very clear visual on the distribution of the values in a list.\"\n",
    "msg2 = \"Incorrect. Although a scatter plot can give you an idea, it's not the best option.\"\n",
    "msg3 = \"Excellent choice!\"\n",
    "Ex().has_chosen(3, msgs = [msg1, msg2, msg3])\n",
    "### END HIDDEN TESTS"
   ]
  },
  {
   "cell_type": "markdown",
   "id": "ecb922f6",
   "metadata": {
    "nbgrader": {
     "grade": false,
     "grade_id": "mcq_112",
     "locked": true,
     "schema_version": 3,
     "solution": false,
     "task": false
    }
   },
   "source": [
    "<hr style=\"border:10px solid steelblue\"> </hr>\n",
    "<div class=\"alert alert-block alert-success\">\n",
    "\n",
    "### Chapter 1 -  Exercise 12\n",
    "### Choose the right plot (2)\n",
    "You're a professor in Data Analytics with Python, and you want to visually assess if longer answers on exam questions lead to higher grades. Which plot do you use?\n",
    "</div><div class=\"alert alert-block alert-warning\">\n",
    "\n",
    "\n",
    "#### Instructions\n",
    "#### Possible Answers\n",
    "\n",
    "\n",
    "1. Line plot\n",
    "\n",
    "2. Scatter plot\n",
    "\n",
    "3. Histogram</div>"
   ]
  },
  {
   "cell_type": "code",
   "execution_count": null,
   "id": "f71ddb3e",
   "metadata": {
    "nbgrader": {
     "grade": true,
     "grade_id": "sct_112",
     "locked": true,
     "points": 50,
     "schema_version": 3,
     "solution": false,
     "task": false
    }
   },
   "outputs": [],
   "source": [
    "### BEGIN HIDDEN TESTS\n",
    "setup_state(stu_code='stc', sol_code='''\n",
    "''', pec='''# pec''')\n",
    "msg1 = \"Making a line plot of this data will cause the lines to be all over the place. Do you still remember how the `gdp_cap` versus `life_exp` plot wasn't a good fit for the line plot?\"\n",
    "msg2 = \"Good choice!\"\n",
    "msg3 = \"There's two variables involved: time to take the exam, and the corresponding grades. A histogram is not a suitable option in this case.\"\n",
    "Ex().has_chosen(2, msgs = [msg1, msg2, msg3])\n",
    "### END HIDDEN TESTS"
   ]
  },
  {
   "cell_type": "markdown",
   "id": "3ec9c018",
   "metadata": {
    "nbgrader": {
     "grade": false,
     "grade_id": "ins_114",
     "locked": true,
     "schema_version": 3,
     "solution": false,
     "task": false
    }
   },
   "source": [
    "<hr style=\"border:10px solid steelblue\"> </hr>\n",
    "<div class=\"alert alert-block alert-success\">\n",
    "\n",
    "### Chapter 1 -  Exercise 14\n",
    "### Labels\n",
    "It's time to customize your own plot. This is the fun part, you will see your plot come to life! \n",
    "\n",
    "You're going to work on the scatter plot with world development data: GDP per capita on the x-axis (logarithmic scale), life expectancy on the y-axis. The code for this plot is available in the script. \n",
    "\n",
    "As a first step, let's add axis labels and a title to the plot. You can do this with the [`` xlabel() ``](https://matplotlib.org/stable/api/_as_gen/matplotlib.pyplot.xlabel.html), [`` ylabel() ``](https://matplotlib.org/stable/api/_as_gen/matplotlib.pyplot.ylabel.html) and [`` title() ``](https://matplotlib.org/stable/api/_as_gen/matplotlib.pyplot.title.html) functions, available in `` matplotlib.pyplot ``. This sub-package is already imported as `` plt ``.\n",
    "</div><div class=\"alert alert-block alert-warning\">\n",
    "\n",
    "\n",
    "#### Instructions\n",
    "\n",
    "\n",
    "*   The strings `` xlab `` and `` ylab `` are already set for you. Use these variables to set the label of the x- and y-axis.\n",
    "*   The string `` title `` is also coded for you. Use it to add a title to the plot.\n",
    "*   After these customizations, finish the script with `` plt.show() `` to actually display the plot."
   ]
  },
  {
   "cell_type": "code",
   "execution_count": null,
   "id": "4ba6293b",
   "metadata": {
    "nbgrader": {
     "grade": false,
     "grade_id": "pec_114",
     "locked": true,
     "schema_version": 3,
     "solution": false,
     "task": false
    }
   },
   "outputs": [],
   "source": [
    "# pec\n",
    "import matplotlib.pyplot as plt; import importlib; importlib.reload(plt)\n",
    "import importlib\n",
    "importlib.reload(plt)\n",
    "\n",
    "plt.clf()\n",
    "\n",
    "import pandas as pd\n",
    "df = pd.read_csv('https://assets.datacamp.com/course/intermediate_python/gapminder.csv', index_col = 0)\n",
    "gdp_cap = list(df.gdp_cap)\n",
    "life_exp = list(df.life_exp)"
   ]
  },
  {
   "cell_type": "markdown",
   "id": "15684544",
   "metadata": {
    "nbgrader": {
     "grade": false,
     "grade_id": "ques_114",
     "locked": true,
     "schema_version": 3,
     "solution": false,
     "task": false
    }
   },
   "source": [
    "```python \n",
    "# Basic scatter plot, log scale\n",
    "plt.scatter(gdp_cap, life_exp)\n",
    "plt.xscale('log') \n",
    "\n",
    "# Strings\n",
    "xlab = 'GDP per Capita [in USD]'\n",
    "ylab = 'Life Expectancy [in years]'\n",
    "title = 'World Development in 2007'\n",
    "\n",
    "# Add axis labels\n",
    "\n",
    "\n",
    "\n",
    "# Add title\n",
    "\n",
    "\n",
    "# After customizing, display the plot\n",
    "\n",
    "```"
   ]
  },
  {
   "cell_type": "code",
   "execution_count": null,
   "id": "d317a76d",
   "metadata": {
    "nbgrader": {
     "grade": false,
     "grade_id": "sol_114",
     "locked": false,
     "schema_version": 3,
     "solution": true,
     "task": false
    }
   },
   "outputs": [],
   "source": [
    "# Basic scatter plot, log scale\n",
    "plt.scatter(gdp_cap, life_exp)\n",
    "plt.xscale('log') \n",
    "\n",
    "# Strings\n",
    "xlab = 'GDP per Capita [in USD]'\n",
    "ylab = 'Life Expectancy [in years]'\n",
    "title = 'World Development in 2007'\n",
    "\n",
    "# Add axis labels\n",
    "plt.xlabel(xlab)\n",
    "plt.ylabel(ylab)\n",
    "\n",
    "# Add title\n",
    "plt.title(title)\n",
    "\n",
    "# After customizing, display the plot\n",
    "plt.show()"
   ]
  },
  {
   "cell_type": "code",
   "execution_count": null,
   "id": "b6d1d77f",
   "metadata": {
    "nbgrader": {
     "grade": true,
     "grade_id": "sct_114",
     "locked": true,
     "points": 100,
     "schema_version": 3,
     "solution": false,
     "task": false
    }
   },
   "outputs": [],
   "source": [
    "### BEGIN HIDDEN TESTS\n",
    "setup_state(stu_code='stc', sol_code='''# Basic scatter plot, log scale\n",
    "plt.scatter(gdp_cap, life_exp)\n",
    "plt.xscale('log') \n",
    "\n",
    "# Strings\n",
    "xlab = 'GDP per Capita [in USD]'\n",
    "ylab = 'Life Expectancy [in years]'\n",
    "title = 'World Development in 2007'\n",
    "\n",
    "# Add axis labels\n",
    "plt.xlabel(xlab)\n",
    "plt.ylabel(ylab)\n",
    "\n",
    "# Add title\n",
    "plt.title(title)\n",
    "\n",
    "# After customizing, display the plot\n",
    "plt.show()\n",
    "''', pec='''# pec\n",
    "import matplotlib.pyplot as plt; import importlib; importlib.reload(plt)\n",
    "import importlib\n",
    "importlib.reload(plt)\n",
    "\n",
    "plt.clf()\n",
    "\n",
    "import pandas as pd\n",
    "df = pd.read_csv('https://assets.datacamp.com/course/intermediate_python/gapminder.csv', index_col = 0)\n",
    "gdp_cap = list(df.gdp_cap)\n",
    "life_exp = list(df.life_exp)''')\n",
    "Ex().check_function(\"matplotlib.pyplot.scatter\").multi(\n",
    "    check_args(0).has_equal_ast(),\n",
    "    check_args(1).has_equal_ast()\n",
    ")\n",
    "\n",
    "Ex().check_function(\"matplotlib.pyplot.xscale\").check_args(0).has_equal_value()\n",
    "Ex().check_function(\"matplotlib.pyplot.xlabel\").check_args(0).has_equal_value()\n",
    "Ex().check_function(\"matplotlib.pyplot.ylabel\").check_args(0).has_equal_value()\n",
    "Ex().check_function(\"matplotlib.pyplot.title\").check_args(0).has_equal_value()\n",
    "\n",
    "msg = \"Don't forget to use `plt.show()` at the end of your script to actually display the plot!\"\n",
    "Ex().check_function(\"matplotlib.pyplot.show\", missing_msg=msg)\n",
    "\n",
    "success_msg(\"This looks much better already!\")\n",
    "### END HIDDEN TESTS"
   ]
  },
  {
   "cell_type": "markdown",
   "id": "ccb6a079",
   "metadata": {
    "nbgrader": {
     "grade": false,
     "grade_id": "ins_115",
     "locked": true,
     "schema_version": 3,
     "solution": false,
     "task": false
    }
   },
   "source": [
    "<hr style=\"border:10px solid steelblue\"> </hr>\n",
    "<div class=\"alert alert-block alert-success\">\n",
    "\n",
    "### Chapter 1 -  Exercise 15\n",
    "### Ticks\n",
    "The customizations you've coded up to now are available in the script, in a more concise form.\n",
    "\n",
    "In the video, Hugo has demonstrated how you could control the y-ticks by specifying two arguments:\n",
    "\n",
    "In this example, the ticks corresponding to the numbers 0, 1 and 2 will be replaced by _one_, _two_ and _three_, respectively.\n",
    "\n",
    "Let's do a similar thing for the x-axis of your world development chart, with the [`` xticks() ``](https://matplotlib.org/stable/api/_as_gen/matplotlib.pyplot.xticks.html) function. The tick values `` 1000 ``, `` 10000 `` and `` 100000 `` should be replaced by `` 1k ``, `` 10k `` and `` 100k ``. To this end, two lists have already been created for you: `` tick_val `` and `` tick_lab ``.\n",
    "</div><div class=\"alert alert-block alert-warning\">\n",
    "\n",
    "\n",
    "#### Instructions\n",
    "\n",
    "\n",
    "*   Use `` tick_val `` and `` tick_lab `` as inputs to the [`` xticks() ``](https://matplotlib.org/stable/api/_as_gen/matplotlib.pyplot.xticks.html) function to make the the plot more readable.\n",
    "*   As usual, display the plot with `` plt.show() `` after you've added the customizations."
   ]
  },
  {
   "cell_type": "code",
   "execution_count": null,
   "id": "91233fd0",
   "metadata": {
    "nbgrader": {
     "grade": false,
     "grade_id": "pec_115",
     "locked": true,
     "schema_version": 3,
     "solution": false,
     "task": false
    }
   },
   "outputs": [],
   "source": [
    "# pec\n",
    "import matplotlib.pyplot as plt; import importlib; importlib.reload(plt)\n",
    "plt.clf()\n",
    "\n",
    "import pandas as pd\n",
    "df = pd.read_csv('https://assets.datacamp.com/course/intermediate_python/gapminder.csv', index_col = 0)\n",
    "gdp_cap = list(df.gdp_cap)\n",
    "life_exp = list(df.life_exp)"
   ]
  },
  {
   "cell_type": "markdown",
   "id": "bc48abcf",
   "metadata": {
    "nbgrader": {
     "grade": false,
     "grade_id": "ques_115",
     "locked": true,
     "schema_version": 3,
     "solution": false,
     "task": false
    }
   },
   "source": [
    "```python \n",
    "# Scatter plot\n",
    "plt.scatter(gdp_cap, life_exp)\n",
    "\n",
    "# Previous customizations\n",
    "plt.xscale('log') \n",
    "plt.xlabel('GDP per Capita [in USD]')\n",
    "plt.ylabel('Life Expectancy [in years]')\n",
    "plt.title('World Development in 2007')\n",
    "\n",
    "# Definition of tick_val and tick_lab\n",
    "tick_val = [1000, 10000, 100000]\n",
    "tick_lab = ['1k', '10k', '100k']\n",
    "\n",
    "# Adapt the ticks on the x-axis\n",
    "\n",
    "\n",
    "# After customizing, display the plot\n",
    "\n",
    "```"
   ]
  },
  {
   "cell_type": "code",
   "execution_count": null,
   "id": "765b530f",
   "metadata": {
    "nbgrader": {
     "grade": false,
     "grade_id": "sol_115",
     "locked": false,
     "schema_version": 3,
     "solution": true,
     "task": false
    }
   },
   "outputs": [],
   "source": [
    "# Scatter plot\n",
    "plt.scatter(gdp_cap, life_exp)\n",
    "\n",
    "# Previous customizations\n",
    "plt.xscale('log') \n",
    "plt.xlabel('GDP per Capita [in USD]')\n",
    "plt.ylabel('Life Expectancy [in years]')\n",
    "plt.title('World Development in 2007')\n",
    "\n",
    "# Definition of tick_val and tick_lab\n",
    "tick_val = [1000, 10000, 100000]\n",
    "tick_lab = ['1k', '10k', '100k']\n",
    "\n",
    "# Adapt the ticks on the x-axis\n",
    "plt.xticks(tick_val, tick_lab)\n",
    "\n",
    "# After customizing, display the plot\n",
    "plt.show()"
   ]
  },
  {
   "cell_type": "code",
   "execution_count": null,
   "id": "83ced8bb",
   "metadata": {
    "nbgrader": {
     "grade": true,
     "grade_id": "sct_115",
     "locked": true,
     "points": 100,
     "schema_version": 3,
     "solution": false,
     "task": false
    }
   },
   "outputs": [],
   "source": [
    "### BEGIN HIDDEN TESTS\n",
    "setup_state(stu_code='stc', sol_code='''# Scatter plot\n",
    "plt.scatter(gdp_cap, life_exp)\n",
    "\n",
    "# Previous customizations\n",
    "plt.xscale('log') \n",
    "plt.xlabel('GDP per Capita [in USD]')\n",
    "plt.ylabel('Life Expectancy [in years]')\n",
    "plt.title('World Development in 2007')\n",
    "\n",
    "# Definition of tick_val and tick_lab\n",
    "tick_val = [1000, 10000, 100000]\n",
    "tick_lab = ['1k', '10k', '100k']\n",
    "\n",
    "# Adapt the ticks on the x-axis\n",
    "plt.xticks(tick_val, tick_lab)\n",
    "\n",
    "# After customizing, display the plot\n",
    "plt.show()\n",
    "''', pec='''# pec\n",
    "import matplotlib.pyplot as plt; import importlib; importlib.reload(plt)\n",
    "plt.clf()\n",
    "\n",
    "import pandas as pd\n",
    "df = pd.read_csv('https://assets.datacamp.com/course/intermediate_python/gapminder.csv', index_col = 0)\n",
    "gdp_cap = list(df.gdp_cap)\n",
    "life_exp = list(df.life_exp)''')\n",
    "Ex().check_function(\"matplotlib.pyplot.scatter\").multi(\n",
    "    check_args(0).has_equal_ast(),\n",
    "    check_args(1).has_equal_ast()\n",
    ")\n",
    "\n",
    "Ex().multi(\n",
    "    check_function(\"matplotlib.pyplot.xscale\").check_args(0).has_equal_value(),\n",
    "    check_function(\"matplotlib.pyplot.xlabel\").check_args(0).has_equal_value(),\n",
    "    check_function(\"matplotlib.pyplot.ylabel\").check_args(0).has_equal_value(),\n",
    "    check_function(\"matplotlib.pyplot.title\").check_args(0).has_equal_value()\n",
    ")\n",
    "\n",
    "Ex().check_function(\"matplotlib.pyplot.xticks\").multi(\n",
    "    check_args(0).has_equal_value(),\n",
    "    check_args(1).has_equal_value()\n",
    ")\n",
    "\n",
    "msg = \"Don't forget to use `plt.show()` at the end of your script to actually display the plot!\"\n",
    "Ex().check_function(\"matplotlib.pyplot.show\", missing_msg=msg)\n",
    "\n",
    "success_msg(\"Great! Your plot is shaping up nicely!\")\n",
    "### END HIDDEN TESTS"
   ]
  },
  {
   "cell_type": "markdown",
   "id": "3a6bd7c5",
   "metadata": {
    "nbgrader": {
     "grade": false,
     "grade_id": "ins_116",
     "locked": true,
     "schema_version": 3,
     "solution": false,
     "task": false
    }
   },
   "source": [
    "<hr style=\"border:10px solid steelblue\"> </hr>\n",
    "<div class=\"alert alert-block alert-success\">\n",
    "\n",
    "### Chapter 1 -  Exercise 16\n",
    "### Sizes\n",
    "Right now, the scatter plot is just a cloud of blue dots, indistinguishable from each other. Let's change this. Wouldn't it be nice if the size of the dots corresponds to the population?\n",
    "\n",
    "To accomplish this, there is a list `` pop `` loaded in your workspace. It contains population numbers for each country expressed in millions. You can see that this list is added to the scatter method, as the argument `` s ``, for size.\n",
    "</div><div class=\"alert alert-block alert-warning\">\n",
    "\n",
    "\n",
    "#### Instructions\n",
    "\n",
    "\n",
    "*   Run the script to see how the plot changes.\n",
    "*   Looks good, but increasing the size of the bubbles will make things stand out more.\n",
    "    \n",
    "    *   Import the `` numpy `` package as `` np ``.\n",
    "    *   Use `` np.array() `` to create a numpy array from the list `` pop ``. Call this NumPy array `` np_pop ``.\n",
    "    *   Double the values in `` np_pop `` setting the value of `` np_pop `` equal to `` np_pop * 2 ``. Because `` np_pop `` is a NumPy array, each array element will be doubled.\n",
    "    *   Change the `` s `` argument inside [`` plt.scatter() ``](https://matplotlib.org/stable/api/_as_gen/matplotlib.pyplot.scatter.html) to be `` np_pop `` instead of `` pop ``.\n",
    "    \n",
    "    \n",
    "    "
   ]
  },
  {
   "cell_type": "code",
   "execution_count": null,
   "id": "05a7d6c1",
   "metadata": {
    "nbgrader": {
     "grade": false,
     "grade_id": "pec_116",
     "locked": true,
     "schema_version": 3,
     "solution": false,
     "task": false
    }
   },
   "outputs": [],
   "source": [
    "# pec\n",
    "import matplotlib.pyplot as plt; import importlib; importlib.reload(plt)\n",
    "import numpy as np\n",
    "plt.clf()\n",
    "\n",
    "# data\n",
    "import pandas as pd\n",
    "df = pd.read_csv('https://assets.datacamp.com/course/intermediate_python/gapminder.csv', index_col = 0)\n",
    "gdp_cap = list(df.gdp_cap)\n",
    "life_exp = list(df.life_exp)\n",
    "pop = list(df['population']/1e6)"
   ]
  },
  {
   "cell_type": "markdown",
   "id": "c2bf4df1",
   "metadata": {
    "nbgrader": {
     "grade": false,
     "grade_id": "ques_116",
     "locked": true,
     "schema_version": 3,
     "solution": false,
     "task": false
    }
   },
   "source": [
    "```python \n",
    "# Import numpy as np\n",
    "\n",
    "\n",
    "# Store pop as a numpy array: np_pop\n",
    "\n",
    "\n",
    "# Double np_pop\n",
    "\n",
    "\n",
    "# Update: set s argument to np_pop\n",
    "plt.scatter(gdp_cap, life_exp, s = pop)\n",
    "\n",
    "# Previous customizations\n",
    "plt.xscale('log') \n",
    "plt.xlabel('GDP per Capita [in USD]')\n",
    "plt.ylabel('Life Expectancy [in years]')\n",
    "plt.title('World Development in 2007')\n",
    "plt.xticks([1000, 10000, 100000],['1k', '10k', '100k'])\n",
    "\n",
    "# Display the plot\n",
    "plt.show()\n",
    "```"
   ]
  },
  {
   "cell_type": "code",
   "execution_count": null,
   "id": "06e72f98",
   "metadata": {
    "nbgrader": {
     "grade": false,
     "grade_id": "sol_116",
     "locked": false,
     "schema_version": 3,
     "solution": true,
     "task": false
    }
   },
   "outputs": [],
   "source": [
    "# Import numpy as np\n",
    "import numpy as np\n",
    "\n",
    "# Store pop as a numpy array: np_pop\n",
    "np_pop = np.array(pop)\n",
    "\n",
    "# Double np_pop\n",
    "np_pop = np_pop * 2\n",
    "\n",
    "# Update: set s argument to np_pop\n",
    "plt.scatter(gdp_cap, life_exp, s = np_pop)\n",
    "\n",
    "# Previous customizations\n",
    "plt.xscale('log') \n",
    "plt.xlabel('GDP per Capita [in USD]')\n",
    "plt.ylabel('Life Expectancy [in years]')\n",
    "plt.title('World Development in 2007')\n",
    "plt.xticks([1000, 10000, 100000],['1k', '10k', '100k'])\n",
    "\n",
    "# Display the plot\n",
    "plt.show()"
   ]
  },
  {
   "cell_type": "code",
   "execution_count": null,
   "id": "6b2ab985",
   "metadata": {
    "nbgrader": {
     "grade": true,
     "grade_id": "sct_116",
     "locked": true,
     "points": 100,
     "schema_version": 3,
     "solution": false,
     "task": false
    }
   },
   "outputs": [],
   "source": [
    "### BEGIN HIDDEN TESTS\n",
    "setup_state(stu_code='stc', sol_code='''# Import numpy as np\n",
    "import numpy as np\n",
    "\n",
    "# Store pop as a numpy array: np_pop\n",
    "np_pop = np.array(pop)\n",
    "\n",
    "# Double np_pop\n",
    "np_pop = np_pop * 2\n",
    "\n",
    "# Update: set s argument to np_pop\n",
    "plt.scatter(gdp_cap, life_exp, s = np_pop)\n",
    "\n",
    "# Previous customizations\n",
    "plt.xscale('log') \n",
    "plt.xlabel('GDP per Capita [in USD]')\n",
    "plt.ylabel('Life Expectancy [in years]')\n",
    "plt.title('World Development in 2007')\n",
    "plt.xticks([1000, 10000, 100000],['1k', '10k', '100k'])\n",
    "\n",
    "# Display the plot\n",
    "plt.show()\n",
    "''', pec='''# pec\n",
    "import matplotlib.pyplot as plt; import importlib; importlib.reload(plt)\n",
    "import numpy as np\n",
    "plt.clf()\n",
    "\n",
    "# data\n",
    "import pandas as pd\n",
    "df = pd.read_csv('https://assets.datacamp.com/course/intermediate_python/gapminder.csv', index_col = 0)\n",
    "gdp_cap = list(df.gdp_cap)\n",
    "life_exp = list(df.life_exp)\n",
    "pop = list(df['population']/1e6)''')\n",
    "Ex().has_import('numpy', same_as = True)\n",
    "\n",
    "Ex().check_object('np_pop').has_equal_value(\"Did you correctly double `np_pop` by setting its value equal to `np_pop * 2`?\")\n",
    "\n",
    "Ex().check_function(\"numpy.array\").check_args(0).has_equal_value()\n",
    "\n",
    "Ex().check_function(\"matplotlib.pyplot.scatter\").multi(\n",
    "  check_args(0).has_equal_ast(),\n",
    "  check_args(1).has_equal_ast(),\n",
    "  check_args('s').has_equal_value()\n",
    ")\n",
    "    \n",
    "Ex().multi(\n",
    "    check_function(\"matplotlib.pyplot.xscale\").check_args(0).has_equal_value(),\n",
    "    check_function(\"matplotlib.pyplot.xlabel\").check_args(0).has_equal_value(),\n",
    "    check_function(\"matplotlib.pyplot.ylabel\").check_args(0).has_equal_value(),\n",
    "    check_function(\"matplotlib.pyplot.title\").check_args(0).has_equal_value(),\n",
    "    check_function(\"matplotlib.pyplot.xticks\").multi(\n",
    "        check_args(0).has_equal_value(),\n",
    "        check_args(1).has_equal_value()\n",
    "    )\n",
    ")\n",
    "\n",
    "msg = \"Don't forget to use `plt.show()` at the end of your script to actually display the plot!\"\n",
    "Ex().check_function(\"matplotlib.pyplot.show\", missing_msg=msg)\n",
    "\n",
    "success_msg(\"Bellissimo! Can you already tell which bubbles correspond to which countries?\")\n",
    "### END HIDDEN TESTS"
   ]
  },
  {
   "cell_type": "markdown",
   "id": "9b84033e",
   "metadata": {
    "nbgrader": {
     "grade": false,
     "grade_id": "ins_117",
     "locked": true,
     "schema_version": 3,
     "solution": false,
     "task": false
    }
   },
   "source": [
    "<hr style=\"border:10px solid steelblue\"> </hr>\n",
    "<div class=\"alert alert-block alert-success\">\n",
    "\n",
    "### Chapter 1 -  Exercise 17\n",
    "### Colors\n",
    "The code you've written up to now is available in the script.\n",
    "\n",
    "The next step is making the plot more colorful! To do this, a list `` col `` has been created for you. It's a list with a color for each corresponding country, depending on the continent the country is part of.\n",
    "\n",
    "How did we make the list `` col `` you ask? The Gapminder data contains a list `` continent `` with the continent each country belongs to. A dictionary is constructed that maps continents onto colors:\n",
    "\n",
    "Nothing to worry about now; you will learn about dictionaries in the next chapter.\n",
    "</div><div class=\"alert alert-block alert-warning\">\n",
    "\n",
    "\n",
    "#### Instructions\n",
    "\n",
    "\n",
    "*   Add `` c = col `` to the arguments of the [`` plt.scatter() ``](https://matplotlib.org/stable/api/_as_gen/matplotlib.pyplot.scatter.html) function.\n",
    "*   Change the opacity of the bubbles by setting the `` alpha `` argument to `` 0.8 `` inside [`` plt.scatter() ``](https://matplotlib.org/stable/api/_as_gen/matplotlib.pyplot.scatter.html). Alpha can be set from zero to one, where zero is totally transparent, and one is not at all transparent."
   ]
  },
  {
   "cell_type": "code",
   "execution_count": null,
   "id": "541f980e",
   "metadata": {
    "nbgrader": {
     "grade": false,
     "grade_id": "pec_117",
     "locked": true,
     "schema_version": 3,
     "solution": false,
     "task": false
    }
   },
   "outputs": [],
   "source": [
    "# pec\n",
    "import matplotlib.pyplot as plt; import importlib; importlib.reload(plt)\n",
    "plt.clf()\n",
    "import numpy as np\n",
    "import pandas as pd\n",
    "df = pd.read_csv('https://assets.datacamp.com/course/intermediate_python/gapminder.csv', index_col = 0)\n",
    "gdp_cap = list(df.gdp_cap)\n",
    "life_exp = list(df.life_exp)\n",
    "pop = list(df['population']/1e6)\n",
    "cont = list(df.cont)\n",
    "lut = {\n",
    "    'Asia':'red',\n",
    "    'Europe':'green',\n",
    "    'Africa':'blue',\n",
    "    'Americas':'yellow',\n",
    "    'Oceania':'black'\n",
    "}\n",
    "col = [lut[x] for x in cont]"
   ]
  },
  {
   "cell_type": "markdown",
   "id": "4c1802de",
   "metadata": {
    "nbgrader": {
     "grade": false,
     "grade_id": "ques_117",
     "locked": true,
     "schema_version": 3,
     "solution": false,
     "task": false
    }
   },
   "source": [
    "```python \n",
    "# Specify c and alpha inside plt.scatter()\n",
    "plt.scatter(x = gdp_cap, y = life_exp, s = np.array(pop) * 2)\n",
    "\n",
    "# Previous customizations\n",
    "plt.xscale('log') \n",
    "plt.xlabel('GDP per Capita [in USD]')\n",
    "plt.ylabel('Life Expectancy [in years]')\n",
    "plt.title('World Development in 2007')\n",
    "plt.xticks([1000,10000,100000], ['1k','10k','100k'])\n",
    "\n",
    "# Show the plot\n",
    "plt.show()\n",
    "```"
   ]
  },
  {
   "cell_type": "code",
   "execution_count": null,
   "id": "48d3d61f",
   "metadata": {
    "nbgrader": {
     "grade": false,
     "grade_id": "sol_117",
     "locked": false,
     "schema_version": 3,
     "solution": true,
     "task": false
    }
   },
   "outputs": [],
   "source": [
    "# Specify c and alpha inside plt.scatter()\n",
    "plt.scatter(x = gdp_cap, y = life_exp, s = np.array(pop) * 2, c = col, alpha = 0.8)\n",
    "\n",
    "# Previous customizations\n",
    "plt.xscale('log') \n",
    "plt.xlabel('GDP per Capita [in USD]')\n",
    "plt.ylabel('Life Expectancy [in years]')\n",
    "plt.title('World Development in 2007')\n",
    "plt.xticks([1000,10000,100000], ['1k','10k','100k'])\n",
    "\n",
    "# Show the plot\n",
    "plt.show()"
   ]
  },
  {
   "cell_type": "code",
   "execution_count": null,
   "id": "4c787850",
   "metadata": {
    "nbgrader": {
     "grade": true,
     "grade_id": "sct_117",
     "locked": true,
     "points": 100,
     "schema_version": 3,
     "solution": false,
     "task": false
    }
   },
   "outputs": [],
   "source": [
    "### BEGIN HIDDEN TESTS\n",
    "setup_state(stu_code='stc', sol_code='''# Specify c and alpha inside plt.scatter()\n",
    "plt.scatter(x = gdp_cap, y = life_exp, s = np.array(pop) * 2, c = col, alpha = 0.8)\n",
    "\n",
    "# Previous customizations\n",
    "plt.xscale('log') \n",
    "plt.xlabel('GDP per Capita [in USD]')\n",
    "plt.ylabel('Life Expectancy [in years]')\n",
    "plt.title('World Development in 2007')\n",
    "plt.xticks([1000,10000,100000], ['1k','10k','100k'])\n",
    "\n",
    "# Show the plot\n",
    "plt.show()\n",
    "''', pec='''# pec\n",
    "import matplotlib.pyplot as plt; import importlib; importlib.reload(plt)\n",
    "plt.clf()\n",
    "import numpy as np\n",
    "import pandas as pd\n",
    "df = pd.read_csv('https://assets.datacamp.com/course/intermediate_python/gapminder.csv', index_col = 0)\n",
    "gdp_cap = list(df.gdp_cap)\n",
    "life_exp = list(df.life_exp)\n",
    "pop = list(df['population']/1e6)\n",
    "cont = list(df.cont)\n",
    "lut = {\n",
    "    'Asia':'red',\n",
    "    'Europe':'green',\n",
    "    'Africa':'blue',\n",
    "    'Americas':'yellow',\n",
    "    'Oceania':'black'\n",
    "}\n",
    "col = [lut[x] for x in cont]''')\n",
    "Ex().check_function(\"matplotlib.pyplot.scatter\").multi(\n",
    "    check_args('x').has_equal_ast(),\n",
    "    check_args('y').has_equal_ast(),\n",
    "    check_args('s').has_equal_value(),\n",
    "    check_args('c').has_equal_ast(),\n",
    "    check_args('alpha').has_equal_value()\n",
    ")\n",
    "\n",
    "Ex().multi(\n",
    "    check_function(\"matplotlib.pyplot.xscale\").check_args(0).has_equal_value(),\n",
    "    check_function(\"matplotlib.pyplot.xlabel\").check_args(0).has_equal_value(),\n",
    "    check_function(\"matplotlib.pyplot.ylabel\").check_args(0).has_equal_value(),\n",
    "    check_function(\"matplotlib.pyplot.title\").check_args(0).has_equal_value(),\n",
    "    check_function(\"matplotlib.pyplot.xticks\").multi(\n",
    "        check_args(0).has_equal_value(),\n",
    "        check_args(1).has_equal_value()\n",
    "    )\n",
    ")\n",
    "\n",
    "msg = \"Don't forget to use `plt.show()` at the end of your script to actually display the plot!\"\n",
    "Ex().check_function(\"matplotlib.pyplot.show\", missing_msg=msg)\n",
    "  \n",
    "success_msg(\"Nice! This is looking more and more like Hans Rosling's plot!\")\n",
    "### END HIDDEN TESTS"
   ]
  },
  {
   "cell_type": "markdown",
   "id": "9ea44795",
   "metadata": {
    "nbgrader": {
     "grade": false,
     "grade_id": "ins_118",
     "locked": true,
     "schema_version": 3,
     "solution": false,
     "task": false
    }
   },
   "source": [
    "<hr style=\"border:10px solid steelblue\"> </hr>\n",
    "<div class=\"alert alert-block alert-success\">\n",
    "\n",
    "### Chapter 1 -  Exercise 18\n",
    "### Additional Customizations\n",
    "If you have another look at the script, under `` # Additional Customizations ``, you'll see that there are two [`` plt.text() ``](https://matplotlib.org/stable/api/_as_gen/matplotlib.pyplot.text.html) functions now. They add the words `` \"India\" `` and `` \"China\" `` in the plot.\n",
    "</div><div class=\"alert alert-block alert-warning\">\n",
    "\n",
    "\n",
    "#### Instructions\n",
    "\n",
    "\n",
    "*   Add [`` plt.grid(True) ``](https://matplotlib.org/stable/api/_as_gen/matplotlib.pyplot.grid.html) after the [`` plt.text() ``](https://matplotlib.org/stable/api/_as_gen/matplotlib.pyplot.text.html) calls so that gridlines are drawn on the plot."
   ]
  },
  {
   "cell_type": "code",
   "execution_count": null,
   "id": "90b438cc",
   "metadata": {
    "nbgrader": {
     "grade": false,
     "grade_id": "pec_118",
     "locked": true,
     "schema_version": 3,
     "solution": false,
     "task": false
    }
   },
   "outputs": [],
   "source": [
    "# pec\n",
    "import matplotlib.pyplot as plt; import importlib; importlib.reload(plt)\n",
    "plt.clf()\n",
    "import numpy as np\n",
    "import pandas as pd\n",
    "df = pd.read_csv('https://assets.datacamp.com/course/intermediate_python/gapminder.csv', index_col = 0)\n",
    "gdp_cap = list(df.gdp_cap)\n",
    "life_exp = list(df.life_exp)\n",
    "pop = list(df['population']/1e6)\n",
    "cont = list(df.cont)\n",
    "lut = {\n",
    "    'Asia':'red',\n",
    "    'Europe':'green',\n",
    "    'Africa':'blue',\n",
    "    'Americas':'yellow',\n",
    "    'Oceania':'black'\n",
    "}\n",
    "col = [lut[x] for x in cont]"
   ]
  },
  {
   "cell_type": "markdown",
   "id": "51be5eda",
   "metadata": {
    "nbgrader": {
     "grade": false,
     "grade_id": "ques_118",
     "locked": true,
     "schema_version": 3,
     "solution": false,
     "task": false
    }
   },
   "source": [
    "```python \n",
    "# Scatter plot\n",
    "plt.scatter(x = gdp_cap, y = life_exp, s = np.array(pop) * 2, c = col, alpha = 0.8)\n",
    "\n",
    "# Previous customizations\n",
    "plt.xscale('log') \n",
    "plt.xlabel('GDP per Capita [in USD]')\n",
    "plt.ylabel('Life Expectancy [in years]')\n",
    "plt.title('World Development in 2007')\n",
    "plt.xticks([1000,10000,100000], ['1k','10k','100k'])\n",
    "\n",
    "# Additional customizations\n",
    "plt.text(1550, 71, 'India')\n",
    "plt.text(5700, 80, 'China')\n",
    "\n",
    "# Add grid() call\n",
    "\n",
    "\n",
    "# Show the plot\n",
    "plt.show()\n",
    "```"
   ]
  },
  {
   "cell_type": "code",
   "execution_count": null,
   "id": "09328497",
   "metadata": {
    "nbgrader": {
     "grade": false,
     "grade_id": "sol_118",
     "locked": false,
     "schema_version": 3,
     "solution": true,
     "task": false
    }
   },
   "outputs": [],
   "source": [
    "# Scatter plot\n",
    "plt.scatter(x = gdp_cap, y = life_exp, s = np.array(pop) * 2, c = col, alpha = 0.8)\n",
    "\n",
    "# Previous customizations\n",
    "plt.xscale('log') \n",
    "plt.xlabel('GDP per Capita [in USD]')\n",
    "plt.ylabel('Life Expectancy [in years]')\n",
    "plt.title('World Development in 2007')\n",
    "plt.xticks([1000,10000,100000], ['1k','10k','100k'])\n",
    "\n",
    "# Additional customizations\n",
    "plt.text(1550, 71, 'India')\n",
    "plt.text(5700, 80, 'China')\n",
    "\n",
    "# Add grid() call\n",
    "plt.grid(True)\n",
    "\n",
    "# Show the plot\n",
    "plt.show()"
   ]
  },
  {
   "cell_type": "code",
   "execution_count": null,
   "id": "cac1a46d",
   "metadata": {
    "nbgrader": {
     "grade": true,
     "grade_id": "sct_118",
     "locked": true,
     "points": 100,
     "schema_version": 3,
     "solution": false,
     "task": false
    }
   },
   "outputs": [],
   "source": [
    "### BEGIN HIDDEN TESTS\n",
    "setup_state(stu_code='stc', sol_code='''# Scatter plot\n",
    "plt.scatter(x = gdp_cap, y = life_exp, s = np.array(pop) * 2, c = col, alpha = 0.8)\n",
    "\n",
    "# Previous customizations\n",
    "plt.xscale('log') \n",
    "plt.xlabel('GDP per Capita [in USD]')\n",
    "plt.ylabel('Life Expectancy [in years]')\n",
    "plt.title('World Development in 2007')\n",
    "plt.xticks([1000,10000,100000], ['1k','10k','100k'])\n",
    "\n",
    "# Additional customizations\n",
    "plt.text(1550, 71, 'India')\n",
    "plt.text(5700, 80, 'China')\n",
    "\n",
    "# Add grid() call\n",
    "plt.grid(True)\n",
    "\n",
    "# Show the plot\n",
    "plt.show()\n",
    "''', pec='''# pec\n",
    "import matplotlib.pyplot as plt; import importlib; importlib.reload(plt)\n",
    "plt.clf()\n",
    "import numpy as np\n",
    "import pandas as pd\n",
    "df = pd.read_csv('https://assets.datacamp.com/course/intermediate_python/gapminder.csv', index_col = 0)\n",
    "gdp_cap = list(df.gdp_cap)\n",
    "life_exp = list(df.life_exp)\n",
    "pop = list(df['population']/1e6)\n",
    "cont = list(df.cont)\n",
    "lut = {\n",
    "    'Asia':'red',\n",
    "    'Europe':'green',\n",
    "    'Africa':'blue',\n",
    "    'Americas':'yellow',\n",
    "    'Oceania':'black'\n",
    "}\n",
    "col = [lut[x] for x in cont]''')\n",
    "Ex().check_function(\"matplotlib.pyplot.scatter\").multi(\n",
    "    check_args('x').has_equal_ast(),\n",
    "    check_args('y').has_equal_ast(),\n",
    "    check_args('s').has_equal_value(),\n",
    "    check_args('c').has_equal_ast(),\n",
    "    check_args('alpha').has_equal_value()\n",
    ")\n",
    "\n",
    "Ex().multi(\n",
    "    check_function(\"matplotlib.pyplot.xscale\").check_args(0).has_equal_value(),\n",
    "    check_function(\"matplotlib.pyplot.xlabel\").check_args(0).has_equal_value(),\n",
    "    check_function(\"matplotlib.pyplot.ylabel\").check_args(0).has_equal_value(),\n",
    "    check_function(\"matplotlib.pyplot.title\").check_args(0).has_equal_value(),\n",
    "    check_function(\"matplotlib.pyplot.xticks\").multi(\n",
    "        check_args(0).has_equal_value(),\n",
    "        check_args(1).has_equal_value()\n",
    "    )\n",
    ")\n",
    "\n",
    "Ex().multi(\n",
    "    check_function('matplotlib.pyplot.text', index=0).multi(\n",
    "        check_args(0).has_equal_value(),\n",
    "        check_args(1).has_equal_value(),\n",
    "        check_args(2).has_equal_value()\n",
    "    ),\n",
    "    check_function('matplotlib.pyplot.text', index=1).multi(\n",
    "        check_args(0).has_equal_value(),\n",
    "        check_args(1).has_equal_value(),\n",
    "        check_args(2).has_equal_value()\n",
    "    ),\n",
    ")\n",
    "\n",
    "Ex().check_function('matplotlib.pyplot.grid').check_args(0).has_equal_value()\n",
    "\n",
    "msg = \"Don't forget to use `plt.show()` at the end of your script to actually display the plot!\"\n",
    "Ex().check_function(\"matplotlib.pyplot.show\", missing_msg=msg)\n",
    "\n",
    "success_msg(\"Beautiful! A visualization only makes sense if you can interpret it properly. Let's do that in the next exercise.\")\n",
    "### END HIDDEN TESTS"
   ]
  },
  {
   "cell_type": "markdown",
   "id": "502baf5f",
   "metadata": {
    "nbgrader": {
     "grade": false,
     "grade_id": "mcq_119",
     "locked": true,
     "schema_version": 3,
     "solution": false,
     "task": false
    }
   },
   "source": [
    "<hr style=\"border:10px solid steelblue\"> </hr>\n",
    "<div class=\"alert alert-block alert-success\">\n",
    "\n",
    "### Chapter 1 -  Exercise 19\n",
    "### Interpretation\n",
    "If you have a look at your colorful plot, it's clear that people live longer in countries with a higher GDP per capita. No high income countries have really short life expectancy, and no low income countries have very long life expectancy. Still, there is a huge difference in life expectancy between countries on the same income level. Most people live in middle income countries where difference in lifespan is huge between countries; depending on how income is distributed and how it is used.\n",
    "\n",
    "What can you say about the plot?\n",
    "</div><div class=\"alert alert-block alert-warning\">\n",
    "\n",
    "\n",
    "#### Instructions\n",
    "#### Possible Answers\n",
    "\n",
    "\n",
    "1. The countries in blue, corresponding to Africa, have both low life expectancy and a low GDP per capita.\n",
    "\n",
    "2. There is a negative correlation between GDP per capita and life expectancy.\n",
    "\n",
    "3. China has both a lower GDP per capita and lower life expectancy compared to India.</div>"
   ]
  },
  {
   "cell_type": "code",
   "execution_count": null,
   "id": "582745e0",
   "metadata": {
    "nbgrader": {
     "grade": false,
     "grade_id": "pec_119",
     "locked": true,
     "schema_version": 3,
     "solution": false,
     "task": false
    }
   },
   "outputs": [],
   "source": [
    "# pec\n",
    "import matplotlib.pyplot as plt; import importlib; importlib.reload(plt)\n",
    "plt.clf()\n",
    "import numpy as np\n",
    "import pandas as pd\n",
    "df = pd.read_csv('https://assets.datacamp.com/course/intermediate_python/gapminder.csv', index_col = 0)\n",
    "gdp_cap = list(df.gdp_cap)\n",
    "life_exp = list(df.life_exp)\n",
    "pop = list(df['population']/1e6)\n",
    "cont = list(df.cont)\n",
    "lut = {\n",
    "    'Asia':'red',\n",
    "    'Europe':'green',\n",
    "    'Africa':'blue',\n",
    "    'Americas':'yellow',\n",
    "    'Oceania':'black'\n",
    "}\n",
    "col = [lut[x] for x in cont]\n",
    "plt.scatter(x = gdp_cap, y = life_exp, s = np.array(pop) * 2, c = col, alpha = 0.8)\n",
    "plt.xscale('log') \n",
    "plt.xlabel('GDP per Capita [in USD]')\n",
    "plt.ylabel('Life Expectancy [in years]')\n",
    "plt.title('World Development in 2007')\n",
    "plt.xticks([1000,10000,100000], ['1k','10k','100k'])\n",
    "plt.text(800, 70, 'India')\n",
    "plt.text(5700, 80, 'China')\n",
    "plt.grid(True)\n",
    "plt.show()"
   ]
  },
  {
   "cell_type": "code",
   "execution_count": null,
   "id": "8f3ffc9c",
   "metadata": {
    "nbgrader": {
     "grade": true,
     "grade_id": "sct_119",
     "locked": true,
     "points": 50,
     "schema_version": 3,
     "solution": false,
     "task": false
    }
   },
   "outputs": [],
   "source": [
    "### BEGIN HIDDEN TESTS\n",
    "setup_state(stu_code='stc', sol_code='''\n",
    "''', pec='''# pec\n",
    "import matplotlib.pyplot as plt; import importlib; importlib.reload(plt)\n",
    "plt.clf()\n",
    "import numpy as np\n",
    "import pandas as pd\n",
    "df = pd.read_csv('https://assets.datacamp.com/course/intermediate_python/gapminder.csv', index_col = 0)\n",
    "gdp_cap = list(df.gdp_cap)\n",
    "life_exp = list(df.life_exp)\n",
    "pop = list(df['population']/1e6)\n",
    "cont = list(df.cont)\n",
    "lut = {\n",
    "    'Asia':'red',\n",
    "    'Europe':'green',\n",
    "    'Africa':'blue',\n",
    "    'Americas':'yellow',\n",
    "    'Oceania':'black'\n",
    "}\n",
    "col = [lut[x] for x in cont]\n",
    "plt.scatter(x = gdp_cap, y = life_exp, s = np.array(pop) * 2, c = col, alpha = 0.8)\n",
    "plt.xscale('log') \n",
    "plt.xlabel('GDP per Capita [in USD]')\n",
    "plt.ylabel('Life Expectancy [in years]')\n",
    "plt.title('World Development in 2007')\n",
    "plt.xticks([1000,10000,100000], ['1k','10k','100k'])\n",
    "plt.text(800, 70, 'India')\n",
    "plt.text(5700, 80, 'China')\n",
    "plt.grid(True)\n",
    "plt.show()''')\n",
    "msg1 = \"Correct! Up to the next chapter, on dictionaries!\"\n",
    "msg2 = \"Incorrect; there is a clearly positive correlation between GDP per capita and life expectancy.\"\n",
    "msg3 = \"China's GDP per capita and life expectancy is higher than that of India.\"\n",
    "Ex().has_chosen(1, msgs = [msg1, msg2, msg3])\n",
    "### END HIDDEN TESTS"
   ]
  },
  {
   "cell_type": "markdown",
   "id": "23118323",
   "metadata": {},
   "source": [
    "<hr style=\"border:10px solid red\"> </hr>"
   ]
  }
 ],
 "metadata": {
  "kernelspec": {
   "display_name": "Python 3 (ipykernel)",
   "language": "python",
   "name": "python3"
  },
  "language_info": {
   "codemirror_mode": {
    "name": "ipython",
    "version": 3
   },
   "file_extension": ".py",
   "mimetype": "text/x-python",
   "name": "python",
   "nbconvert_exporter": "python",
   "pygments_lexer": "ipython3",
   "version": "3.9.13"
  }
 },
 "nbformat": 4,
 "nbformat_minor": 5
}
